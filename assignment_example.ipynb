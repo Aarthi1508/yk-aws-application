{
  "cells": [
    {
      "cell_type": "markdown",
      "metadata": {
        "colab_type": "text",
        "id": "view-in-github"
      },
      "source": [
        "<a href=\"https://colab.research.google.com/github/Aarthi1508/yk-aws-application/blob/main/aws_application.ipynb\" target=\"_parent\"><img src=\"https://colab.research.google.com/assets/colab-badge.svg\" alt=\"Open In Colab\"/></a>"
      ]
    },
    {
      "cell_type": "markdown",
      "metadata": {
        "id": "9cmoPCpGrECg"
      },
      "source": [
        "## **Import the required packages**"
      ]
    },
    {
      "cell_type": "code",
      "execution_count": 1,
      "metadata": {
        "id": "Waz2rH21nm_q"
      },
      "outputs": [
        {
          "name": "stderr",
          "output_type": "stream",
          "text": [
            "C:\\Users\\guard\\AppData\\Local\\Temp\\ipykernel_12192\\3327126247.py:6: DeprecationWarning: \n",
            "Pyarrow will become a required dependency of pandas in the next major release of pandas (pandas 3.0),\n",
            "(to allow more performant data types, such as the Arrow string type, and better interoperability with other libraries)\n",
            "but was not found to be installed on your system.\n",
            "If this would cause problems for you,\n",
            "please provide us feedback at https://github.com/pandas-dev/pandas/issues/54466\n",
            "        \n",
            "  import pandas as pd  # Import the pandas module for data manipulation and analysis\n"
          ]
        }
      ],
      "source": [
        "import os\n",
        "import rasterio  # Import the rasterio module for reading and writing geospatial raster datasets\n",
        "import numpy as np  # Import the NumPy module for numerical computing\n",
        "import os  # Import the os module for interacting with the operating system\n",
        "import matplotlib.pyplot as plt  # Import the matplotlib.pyplot module for creating static plots and visualizations\n",
        "import pandas as pd  # Import the pandas module for data manipulation and analysis"
      ]
    },
    {
      "cell_type": "markdown",
      "metadata": {
        "id": "5M924LbRQqqU"
      },
      "source": [
        "### Load customized elevation map\n",
        "\n",
        "1. Downlaoad Digital Eleveation Model (DEM) you interest \n",
        "\n",
        "        - One valid source is USGS-EarthExpolorer (https://earthexplorer.usgs.gov/). Here is the tutorial link (https://www.youtube.com/watch?v=NQg0g9ObhXE)\n",
        "\n",
        "2. Extract subarea of interest from the doloaded DSM (e.g., 400x400)\n",
        "\n",
        "3. [Aarthi] ~~~ Shadow Simulation + web update if possible\n",
        "\n",
        "4. Image to GIF"
      ]
    },
    {
      "cell_type": "markdown",
      "metadata": {},
      "source": [
        "### 1. Load the downloaded DSM"
      ]
    },
    {
      "cell_type": "code",
      "execution_count": 2,
      "metadata": {
        "id": "MKUD0w8yPSvD"
      },
      "outputs": [],
      "source": [
        "def read_geotiff(input_file):\n",
        "    # Open the GeoTIFF file\n",
        "    with rasterio.open(input_file, 'r') as src:\n",
        "        # Read metadata\n",
        "        width = src.width\n",
        "        height = src.height\n",
        "        count = src.count  # Number of bands\n",
        "        crs = src.crs.to_epsg()  # EPSG code of the coordinate reference system\n",
        "        transform = src.transform  # Affine transformation parameters\n",
        "\n",
        "        # Read each band\n",
        "        data_arrays = [src.read(band_index + 1) for band_index in range(count)]\n",
        "        data_names = [src.descriptions[band_index] for band_index in range(count)]\n",
        "\n",
        "    return {\n",
        "        'width': width,\n",
        "        'height': height,\n",
        "        'count': count,\n",
        "        'crs': crs,\n",
        "        'transform': transform,\n",
        "        'data_arrays': data_arrays,\n",
        "        'data_names': data_names\n",
        "    }"
      ]
    },
    {
      "cell_type": "code",
      "execution_count": 3,
      "metadata": {
        "colab": {
          "base_uri": "https://localhost:8080/"
        },
        "id": "P__Ca-XLmLTB",
        "outputId": "bc91fd5c-78a2-443b-9330-d531acfd8292"
      },
      "outputs": [
        {
          "name": "stdout",
          "output_type": "stream",
          "text": [
            "Width: 3601, Height: 3601, Bands: 1\n",
            "Coordinate Reference System (CRS): EPSG:4326\n",
            "Affine Transformation: | 0.00, 0.00,-96.00|\n",
            "| 0.00,-0.00, 30.00|\n",
            "| 0.00, 0.00, 1.00|\n",
            "\n",
            "Band 1 - (None):\n",
            "(3601, 3601)\n",
            "<class 'numpy.ndarray'>\n",
            "DSM shape (3601, 3601)\n"
          ]
        },
        {
          "data": {
            "text/plain": [
              "array([[59, 59, 59, ..., 22, 22, 22],\n",
              "       [61, 60, 59, ..., 22, 22, 22],\n",
              "       [64, 63, 61, ..., 21, 21, 21],\n",
              "       ...,\n",
              "       [21, 21, 21, ...,  0,  0,  0],\n",
              "       [22, 23, 23, ...,  0,  0,  0],\n",
              "       [22, 23, 24, ...,  0,  0,  0]], dtype=int16)"
            ]
          },
          "execution_count": 3,
          "metadata": {},
          "output_type": "execute_result"
        }
      ],
      "source": [
        "# Path to GeoTIFF file\n",
        "input_tif_file_path = './webapp/data/n29_w096_1arc_v3.tif' # Replace with the path to your GeoTIFF file\n",
        "\n",
        "# Read GeoTIFF file\n",
        "geotiff_data = read_geotiff(os.path.join(input_tif_file_path))\n",
        "\n",
        "# Access data from geotiff_data dictionary\n",
        "width = geotiff_data['width']\n",
        "height = geotiff_data['height']\n",
        "count = geotiff_data['count']\n",
        "crs = geotiff_data['crs']\n",
        "transform = geotiff_data['transform']\n",
        "data_arrays = geotiff_data['data_arrays']\n",
        "data_names = geotiff_data['data_names']\n",
        "\n",
        "# Print metadata information\n",
        "print(f\"Width: {width}, Height: {height}, Bands: {count}\")\n",
        "print(f\"Coordinate Reference System (CRS): EPSG:{crs}\")\n",
        "print(f\"Affine Transformation: {transform}\")\n",
        "\n",
        "print()\n",
        "\n",
        "# Accessing individual bands\n",
        "for band_index, (data_array, data_name) in enumerate(zip(data_arrays, data_names)):\n",
        "    print(f\"Band {band_index + 1} - ({data_name}):\")\n",
        "    print(data_array.shape)\n",
        "\n",
        "dsm_raw = data_arrays[0]\n",
        "print(type(dsm_raw))\n",
        "print(\"DSM shape\", dsm_raw.shape)\n",
        "dsm_raw"
      ]
    },
    {
      "cell_type": "markdown",
      "metadata": {},
      "source": [
        "### 2. Extract subarea of interest from the doloaded DSM (e.g., 400x400)"
      ]
    },
    {
      "cell_type": "code",
      "execution_count": 4,
      "metadata": {},
      "outputs": [
        {
          "name": "stdout",
          "output_type": "stream",
          "text": [
            "<class 'numpy.ndarray'>\n",
            "DSM shape (400, 400)\n"
          ]
        },
        {
          "data": {
            "text/plain": [
              "array([[59, 59, 59, ..., 72, 72, 72],\n",
              "       [61, 60, 59, ..., 73, 72, 73],\n",
              "       [64, 63, 61, ..., 74, 73, 73],\n",
              "       ...,\n",
              "       [50, 49, 49, ..., 56, 56, 56],\n",
              "       [49, 48, 49, ..., 56, 56, 54],\n",
              "       [49, 50, 50, ..., 56, 55, 53]], dtype=int16)"
            ]
          },
          "execution_count": 4,
          "metadata": {},
          "output_type": "execute_result"
        }
      ],
      "source": [
        "dsm = dsm_raw[:400, :400]\n",
        "\n",
        "print(type(dsm))\n",
        "print(\"DSM shape\", dsm.shape)\n",
        "dsm"
      ]
    },
    {
      "cell_type": "markdown",
      "metadata": {},
      "source": [
        "### 3. [Aarthi] ~~~ Shadow Simulation + web update if possible"
      ]
    },
    {
      "cell_type": "code",
      "execution_count": null,
      "metadata": {},
      "outputs": [],
      "source": []
    },
    {
      "cell_type": "code",
      "execution_count": null,
      "metadata": {},
      "outputs": [],
      "source": []
    },
    {
      "cell_type": "markdown",
      "metadata": {},
      "source": [
        "### 4. Image to Tif file"
      ]
    },
    {
      "cell_type": "code",
      "execution_count": 5,
      "metadata": {},
      "outputs": [],
      "source": [
        "from img2gif import *"
      ]
    },
    {
      "cell_type": "code",
      "execution_count": 6,
      "metadata": {},
      "outputs": [
        {
          "name": "stdout",
          "output_type": "stream",
          "text": [
            "['hour16minute00.png', 'hour16minute30.png', 'hour17minute00.png', 'hour17minute30.png', 'hour18minute00.png']\n"
          ]
        }
      ],
      "source": [
        "# folder path\n",
        "img_dir_path = './img/' # Dir where img files of the shadow are stored\n",
        "result_dir_path = './result/' # Dir where gif of the shadow will be stored\n",
        "\n",
        "if not os.path.exists(img_dir_path):\n",
        "    os.mkdir(img_dir_path)\n",
        "\n",
        "if not os.path.exists(result_dir_path):\n",
        "    os.mkdir(result_dir_path)\n",
        "\n",
        "# list to store files\n",
        "res = []\n",
        "\n",
        "# Iterate directory\n",
        "for path in os.listdir(img_dir_path):\n",
        "    # check if current path is a file\n",
        "    if os.path.isfile(os.path.join(img_dir_path, path)):\n",
        "        res.append(path)\n",
        "\n",
        "res.sort()\n",
        "print(res)"
      ]
    },
    {
      "cell_type": "code",
      "execution_count": 7,
      "metadata": {
        "id": "rsFT4z2zv_T2"
      },
      "outputs": [],
      "source": [
        "import PIL.Image\n",
        "\n",
        "ims = []\n",
        "for i in range(len(res)):\n",
        "    frame = PIL.Image.open(os.path.join(img_dir_path, res[i]))\n",
        "    ims.append(frame)"
      ]
    },
    {
      "cell_type": "code",
      "execution_count": 8,
      "metadata": {},
      "outputs": [],
      "source": [
        "save_transparent_gif(images = ims,durations=300, save_file = './Result/Shadow.gif')"
      ]
    },
    {
      "cell_type": "code",
      "execution_count": 9,
      "metadata": {},
      "outputs": [],
      "source": [
        "# Check the saved file at './Result/Shadow.gif'"
      ]
    }
  ],
  "metadata": {
    "colab": {
      "include_colab_link": true,
      "provenance": []
    },
    "kernelspec": {
      "display_name": "smartcity",
      "language": "python",
      "name": "python3"
    },
    "language_info": {
      "codemirror_mode": {
        "name": "ipython",
        "version": 3
      },
      "file_extension": ".py",
      "mimetype": "text/x-python",
      "name": "python",
      "nbconvert_exporter": "python",
      "pygments_lexer": "ipython3",
      "version": "3.9.18"
    }
  },
  "nbformat": 4,
  "nbformat_minor": 0
}
